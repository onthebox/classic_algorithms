{
 "cells": [
  {
   "cell_type": "markdown",
   "id": "a1f723d5-8b52-47a9-8081-cabf708b3a13",
   "metadata": {},
   "source": [
    "## Bubble sort"
   ]
  },
  {
   "cell_type": "code",
   "execution_count": 2,
   "id": "3c2a532e-e3f3-4725-9e48-ec513ce2d1a8",
   "metadata": {},
   "outputs": [],
   "source": [
    "def bubble_sort(arr):\n",
    "    for i in range(len(arr)):\n",
    "        for j in range(len(arr)-i-1):\n",
    "            if arr[j] > arr[j+1]:\n",
    "                tmp = arr[j]\n",
    "                arr[j] = arr[j+1]\n",
    "                arr[j+1] = tmp"
   ]
  },
  {
   "cell_type": "code",
   "execution_count": 4,
   "id": "fc7f1b8d-1aff-4755-a33c-c2c5b9227be2",
   "metadata": {},
   "outputs": [
    {
     "name": "stdout",
     "output_type": "stream",
     "text": [
      "[1, 1, 0, 6, 2]\n",
      "[0, 1, 1, 2, 6]\n"
     ]
    }
   ],
   "source": [
    "import random\n",
    "\n",
    "n = 5\n",
    "\n",
    "l = [random.randint(0, 11) for i in range(n)]\n",
    "print(l)\n",
    "print(bubble_sort(l))"
   ]
  },
  {
   "cell_type": "code",
   "execution_count": null,
   "id": "434a9468-4d18-47ea-bb0c-97969316a7df",
   "metadata": {},
   "outputs": [],
   "source": []
  },
  {
   "cell_type": "code",
   "execution_count": null,
   "id": "305f06bd-feb6-4f1c-b12f-287d7935737f",
   "metadata": {},
   "outputs": [],
   "source": []
  },
  {
   "cell_type": "code",
   "execution_count": null,
   "id": "2e20f1b8-ccb0-4187-8989-cc132dde69f4",
   "metadata": {},
   "outputs": [],
   "source": []
  },
  {
   "cell_type": "code",
   "execution_count": null,
   "id": "9a343c4b-f78f-4745-bcde-a9dc80ff8392",
   "metadata": {},
   "outputs": [],
   "source": []
  },
  {
   "cell_type": "code",
   "execution_count": null,
   "id": "354a30b2-90ea-46d0-8d77-5c8c3a4b7d07",
   "metadata": {},
   "outputs": [],
   "source": []
  }
 ],
 "metadata": {
  "kernelspec": {
   "display_name": "Python 3 (ipykernel)",
   "language": "python",
   "name": "python3"
  },
  "language_info": {
   "codemirror_mode": {
    "name": "ipython",
    "version": 3
   },
   "file_extension": ".py",
   "mimetype": "text/x-python",
   "name": "python",
   "nbconvert_exporter": "python",
   "pygments_lexer": "ipython3",
   "version": "3.12.5"
  }
 },
 "nbformat": 4,
 "nbformat_minor": 5
}
