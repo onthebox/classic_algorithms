{
 "cells": [
  {
   "cell_type": "code",
   "execution_count": 1,
   "id": "87f6a92c-b819-4a3f-9a13-96fa1ab5d573",
   "metadata": {},
   "outputs": [],
   "source": [
    "from helper_test import check_sorting"
   ]
  },
  {
   "cell_type": "markdown",
   "id": "a1f723d5-8b52-47a9-8081-cabf708b3a13",
   "metadata": {},
   "source": [
    "## Bubble sort"
   ]
  },
  {
   "cell_type": "code",
   "execution_count": 2,
   "id": "3c2a532e-e3f3-4725-9e48-ec513ce2d1a8",
   "metadata": {},
   "outputs": [],
   "source": [
    "def bubble_sort(arr):\n",
    "    for i in range(len(arr)):\n",
    "        for j in range(len(arr)-i-1):\n",
    "            if arr[j] > arr[j+1]:\n",
    "                arr[j], arr[j+1] = arr[j+1], arr[j]\n"
   ]
  },
  {
   "cell_type": "code",
   "execution_count": 3,
   "id": "fc7f1b8d-1aff-4755-a33c-c2c5b9227be2",
   "metadata": {},
   "outputs": [
    {
     "name": "stdout",
     "output_type": "stream",
     "text": [
      "Test case:   [46, 3, 36, 98, 18, 8, 62, 38, 18, 14]\n",
      "Test result: [3, 8, 14, 18, 18, 36, 38, 46, 62, 98]\n",
      "Sorted correctly: True\n"
     ]
    }
   ],
   "source": [
    "check_sorting(bubble_sort)"
   ]
  },
  {
   "cell_type": "markdown",
   "id": "369758ad-f175-4e4f-8cfc-4a2ee17e7c4c",
   "metadata": {},
   "source": [
    "## Insertion sort"
   ]
  },
  {
   "cell_type": "code",
   "execution_count": 4,
   "id": "305f06bd-feb6-4f1c-b12f-287d7935737f",
   "metadata": {},
   "outputs": [],
   "source": [
    "def insertion_sort(arr):\n",
    "    for i in range(1, len(arr)):\n",
    "        key = arr[i]\n",
    "        j = i - 1\n",
    "        while j >= 0 and arr[j] > key:\n",
    "            arr[j+1] = arr[j]\n",
    "            j -= 1\n",
    "        arr[j+1] = key\n"
   ]
  },
  {
   "cell_type": "code",
   "execution_count": 5,
   "id": "2e20f1b8-ccb0-4187-8989-cc132dde69f4",
   "metadata": {},
   "outputs": [
    {
     "name": "stdout",
     "output_type": "stream",
     "text": [
      "Test case:   [17, 45, 92, 101, 96, 100, 43, 21, 77, 62]\n",
      "Test result: [17, 21, 43, 45, 62, 77, 92, 96, 100, 101]\n",
      "Sorted correctly: True\n"
     ]
    }
   ],
   "source": [
    "check_sorting(insertion_sort)"
   ]
  },
  {
   "cell_type": "markdown",
   "id": "fd0d5506-a2f2-4722-b154-1af0a4d48f88",
   "metadata": {},
   "source": [
    "## Selection sort"
   ]
  },
  {
   "cell_type": "code",
   "execution_count": 6,
   "id": "9306820f-121d-4371-917d-04499e69e227",
   "metadata": {},
   "outputs": [],
   "source": [
    "def selection_sort(arr):\n",
    "    for i in range(0, len(arr)-1):\n",
    "        min_j = i\n",
    "        for j in range(i+1, len(arr)):\n",
    "            if arr[j] < arr[min_j]:\n",
    "                min_j = j\n",
    "        arr[i], arr[min_j] = arr[min_j], arr[i]\n"
   ]
  },
  {
   "cell_type": "code",
   "execution_count": 7,
   "id": "69db00ea-316c-4cbf-96b2-ed648b4bfbc5",
   "metadata": {},
   "outputs": [
    {
     "name": "stdout",
     "output_type": "stream",
     "text": [
      "Test case:   [96, 4, 95, 95, 6, 78, 72, 50, 35, 40]\n",
      "Test result: [4, 6, 35, 40, 50, 72, 78, 95, 95, 96]\n",
      "Sorted correctly: True\n"
     ]
    }
   ],
   "source": [
    "check_sorting(selection_sort)"
   ]
  },
  {
   "cell_type": "code",
   "execution_count": 98,
   "id": "2ab0f0ac-b332-4e01-9b78-738b6f0557ad",
   "metadata": {},
   "outputs": [],
   "source": [
    "def double_selection_sort(arr):\n",
    "    for i in range(0, (len(arr) // 2)):\n",
    "        min_j = i\n",
    "        max_j = -i-1\n",
    "        for j in range(i, len(arr)-i):\n",
    "            if arr[j] < arr[min_j]:\n",
    "                min_j = j\n",
    "                continue\n",
    "            if arr[j] > arr[max_j]:\n",
    "                max_j = j\n",
    "                continue\n",
    "\n",
    "        min_value = arr[min_j]\n",
    "        max_value = arr[max_j]\n",
    "\n",
    "        arr[min_j], arr[max_j] = arr[i], arr[-i-1]\n",
    "        arr[i], arr[-i-1] = min_value, max_value\n"
   ]
  },
  {
   "cell_type": "code",
   "execution_count": 176,
   "id": "53136eed-7508-4efe-a337-c257f07f1b1d",
   "metadata": {},
   "outputs": [
    {
     "name": "stdout",
     "output_type": "stream",
     "text": [
      "Test case:   [15, 18, 16, 97, 27, 92, 46, 5, 95, 8]\n",
      "Iter 0:\n",
      "   min_j - 7, max_j - 3\n",
      "   min_value - 5, max_value - 97\n",
      "[5, 18, 16, 8, 27, 92, 46, 15, 95, 97]\n",
      "Iter 1:\n",
      "   min_j - 3, max_j - -2\n",
      "   min_value - 8, max_value - 95\n",
      "[5, 8, 16, 18, 27, 92, 46, 15, 95, 97]\n",
      "Iter 2:\n",
      "   min_j - 7, max_j - 5\n",
      "   min_value - 15, max_value - 92\n",
      "[5, 8, 15, 18, 27, 15, 46, 92, 95, 97]\n",
      "Iter 3:\n",
      "   min_j - 5, max_j - -4\n",
      "   min_value - 15, max_value - 46\n",
      "[5, 8, 15, 15, 27, 18, 46, 92, 95, 97]\n",
      "Iter 4:\n",
      "   min_j - 5, max_j - 4\n",
      "   min_value - 18, max_value - 27\n",
      "[5, 8, 15, 15, 18, 27, 46, 92, 95, 97]\n",
      "Test result: [5, 8, 15, 15, 18, 27, 46, 92, 95, 97]\n",
      "Sorted correctly: True\n"
     ]
    }
   ],
   "source": [
    "check_sorting(double_selection_sort)"
   ]
  },
  {
   "cell_type": "markdown",
   "id": "fdcfa681-b602-4183-8961-f00bc887a6af",
   "metadata": {},
   "source": [
    "##  Merge sort"
   ]
  },
  {
   "cell_type": "code",
   "execution_count": 8,
   "id": "a266ef99-1e1a-4ac3-9460-4191ade8ba74",
   "metadata": {},
   "outputs": [],
   "source": [
    "def merge_sort(arr):\n",
    "    def merge(arr, p, q, r):\n",
    "        left = [k for k in arr[p:q]] + [float(\"inf\")]\n",
    "        right = [k for k in arr[q:r]] + [float(\"inf\")]\n",
    "        i = j = 0\n",
    "        for m in range(p, r):\n",
    "            if left[i] <= right[j]:\n",
    "                arr[m] = left[i]\n",
    "                i += 1\n",
    "            else:\n",
    "                arr[m] = right[j]\n",
    "                j += 1\n",
    "\n",
    "    p, r = 0, len(arr)\n",
    "\n",
    "    if r - p > 1 :\n",
    "        q = (p + r) // 2\n",
    "        arr[p:q] = merge_sort(arr[p:q])\n",
    "        arr[q:r] = merge_sort(arr[q:r])\n",
    "        merge(arr, p, q, r)\n",
    "\n",
    "    return arr\n"
   ]
  },
  {
   "cell_type": "code",
   "execution_count": 9,
   "id": "e10489dd-16a0-4b63-8463-66e3617bb3ed",
   "metadata": {},
   "outputs": [
    {
     "name": "stdout",
     "output_type": "stream",
     "text": [
      "Test case:   [55, 18, 97, 86, 67, 42, 73, 4, 38, 32]\n",
      "Test result: [4, 18, 32, 38, 42, 55, 67, 73, 86, 97]\n",
      "Sorted correctly: True\n"
     ]
    }
   ],
   "source": [
    "check_sorting(merge_sort)"
   ]
  },
  {
   "cell_type": "code",
   "execution_count": null,
   "id": "1afce195-caa6-46e5-a170-734db2945684",
   "metadata": {},
   "outputs": [],
   "source": []
  },
  {
   "cell_type": "code",
   "execution_count": null,
   "id": "b0b2ec85-660d-43f4-a46a-66389c629713",
   "metadata": {},
   "outputs": [],
   "source": []
  },
  {
   "cell_type": "code",
   "execution_count": null,
   "id": "22d6d471-fb04-4541-abb9-375660d5e8dd",
   "metadata": {},
   "outputs": [],
   "source": []
  },
  {
   "cell_type": "code",
   "execution_count": null,
   "id": "5f954dd0-ee7c-4b1e-89b0-52e7491bd2e8",
   "metadata": {},
   "outputs": [],
   "source": []
  },
  {
   "cell_type": "code",
   "execution_count": null,
   "id": "48e5b84a-012e-4a73-aed7-abbfe5218dca",
   "metadata": {},
   "outputs": [],
   "source": []
  }
 ],
 "metadata": {
  "kernelspec": {
   "display_name": "Python 3 (ipykernel)",
   "language": "python",
   "name": "python3"
  },
  "language_info": {
   "codemirror_mode": {
    "name": "ipython",
    "version": 3
   },
   "file_extension": ".py",
   "mimetype": "text/x-python",
   "name": "python",
   "nbconvert_exporter": "python",
   "pygments_lexer": "ipython3",
   "version": "3.10.12"
  }
 },
 "nbformat": 4,
 "nbformat_minor": 5
}
